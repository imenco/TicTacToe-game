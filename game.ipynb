from IPython.display import clear_output
import time
# When creating a game object it starts the game and everything thereafter automatically goes on.
# __init__ it creates two players and a loop until players stop playing
# startGame method is called when __init__ which creates a Board object and a loop until the game is finished
# restartGame method is called after startGame to ask for another game or otherwise stop playing

class Game(object):
    files = 3
    columns = 3
    emptyCell = 9
    name = 'TicTacToe'
    announce = 'Welcome to %s'%name
    
    def __init__(self, counter = 0):
        
        while True:
            try:
                playersNum = int(raw_input('How many players? (0 to wacth machine in action) '))            
            except: pass
            else: 
                if playersNum in [0,1,2]:
                    break
            print 'Please enter 0, 1 or 2'
        
        self.numPlayers = playersNum
        self.playing = True
        self.gameOn = True
        self.counter = 0
        self.players = []
        
        for i in xrange(self.numPlayers):
            self.players.append(PlayerReal())
            
        for j in xrange(2 - self.numPlayers):
            self.players.append(PlayerIA())
    
        while self.playing:
            Game.startGame(self)
            if Game.noRepeat(self):
                self.playing = False
    
        print 'Final result is:\nPlayer 1: %s\nPlayer 2: %s'%(self.players[0].playerPoints, self.players[1].playerPoints)
        
    def startGame(self):
        
        board = Board()
        board.printGraphicBoard()
    
        while self.gameOn:
        
            for player in self.players:
                
                bestOption = board.objectifCell(player.id)
                freeCellsList = board.freeCellsList()
                objective = player.play(bestOption, freeCellsList)
                board.setCellOwner(cellNum = objective, owner = player.id)
                clear_output()
                board.printGraphicBoard()
                
                if board.checkWinner(player.id):
                    
                    self.gameOn = False
                    player.playerPoints += 1
                    break                
                
                elif board.checkDraw():
                    self.gameOn = False
                    break
                
    def noRepeat(self):
        
        again = (raw_input("Do you want to play another game?: ")).lower()[0]
        while True: 
            if again in ['y', 'n']:
                break
            else:
                again = (raw_input("Do you want to play another game? enter 'Yes' or 'No': ")).lower()[0]
                
        if again == 'y':
            self.gameOn = True
            return False
        else:
            return True



# Class for each cell of the board.
# Attributes:
    # cellCounter: incremental unique id for each cell
    # owner: 0 for first player, 1 for second player, 9 for empty (default 9)
    # busy: True/False if busy by player (default False), implemented automatically based on owner
    # tag: graphic tag for owner, implemented automatically based on owner
    # dicTags: dictionary with graphic tags by owner
# Methods:
    # setOwner: to be used when cell is selected by a player

class Cell(object):
    
    cellCounter = 0
    dicTags = {0: 'X', 1: 'O', 9: ' '}
    dicLines = {0: [0,1,2], 1: [3,4,5], 2: [6,7,8], 3: [0,3,6], 4: [1, 4, 7], 5:[2, 5, 8], 6: [0, 4, 8], 7: [2, 4, 6]}
    dicCellsProbs = {0: 3, 1: 2, 2: 3, 3: 2, 4: 4, 5: 2, 6: 3, 7: 2, 8: 2}
    maxCellGame = 8
    
    def __init__(self, busy = False, owner = 9):
        
        if Cell.cellCounter == 9:
            Cell.cellCounter = 0
    
        self.busy = busy
        self.owner = owner
        self.tag = Cell.dicTags[owner]
        self.id = Cell.cellCounter
        self.probCell = Cell.dicCellsProbs[self.id]
        Cell.cellCounter += 1
        Cell.cellLines(self)

    def cellLines(self):
        self.inLines = []
        for i in xrange(len(Cell.dicLines.keys())):
            if (any(map(lambda x: x == self.id, Cell.dicLines[i]))):
                self.inLines.append(i)
    
    def setOwner(self, owner):
        self.owner = owner
        self.tag = Cell.dicTags[owner]
        self.busy = True
        
    def __str__(self):
        return str(self.cellNum) + ' is ' + str(self.busy)



# Class representing the whole boad, composed by Cell objects
# Variables:
    # cells[] : a list containing the Cells objects composing the board
    # rows, columns : magic numbers for rows and columns
    # numberOfRowPerCell: number of new graphic lines for a cell
    # row with Tag: the number of the graphic lines where it is placed the tag
# Methods:
    # init: it creates a number of Cell objects based on input 'q', number of total cells
    # printGraphicBoard: prints the Graphic board with the combination of graphic rows
    # createRow: creates a graphic Row of the board
    
class Board(object):

    players = [0, 1]
    rows = 3
    columns = 3        
    numberOfRowPerCell = 3
    rowWithTag = 1
    numberOfCells = rows * columns
    highestCell = 0
    dicLines = {0: [0,1,2], 1: [3,4,5], 2: [6,7,8], 3: [0,3,6], 4: [1,4,7], 5:[2,5,8], 6: [0, 4, 8], 7: [2, 4, 6]}
    lines = dicLines.keys()
    
    def __init__(self):
        
        self.cells = []
        
        for i in xrange(Board.numberOfCells):
            self.cells.append(Cell())
       
        self.highestCell = reduce(lambda x, y: x if x.id > y.id else y, self.cells).id
        Board.boardStatus(self)
    
    # sets the owner for cell(cellNum), it calls Cell.owner function
    def setCellOwner(self, cellNum, owner):
        
        self.cells[cellNum].setOwner(owner)
        Board.boardStatus(self)
    
    # calls graphic board creation function and it prints it
    def printGraphicBoard(self):

        graphicBoard = ' _______ _______ _______\n'

        for i in xrange(Board.rows):
            graphicBoard += Board.createGraphicRow(self, Board.columns, self.cells[Board.columns*i:Board.columns*i+Board.columns])
            graphicBoard += '\n'

        print graphicBoard

        
    # for player returns the best moove option. 
    # BestCellAlone: the best with highest probs regardless the lines
    # ObjectifLines: lines where the player has already a tag and adversary dont
    # HotLines: lines where the player has already two tags and adverary dont
    # PredictionObjectiveCells: cells with which adversary could make doble hot line next turn that are also in objectivelines
    def objectifCell(self, player):
        
        dangerCells = Board.checkDanger(self, player)
        
        Board.recalculateCellProbs(self, player)
        adversary = (player + 1) % 2
        
        playerLines = Board.ownedBusyLines(self, player)
        adversaryLines = Board.ownedBusyLines(self, adversary)
        
        playerCells = Board.ownedBusyCells(self, player)
        adversaryCells = Board.ownedBusyCells(self, adversary)
         
        playerBestCellAlone = reduce(lambda x,y: x if x.probCell > y.probCell else y, self.FreeCells).id
        playerObjectifLines = filter(lambda x: x not in adversaryLines, playerLines)
        playerHotLines = list(set(filter(lambda x: playerObjectifLines.count(x) > 1, playerObjectifLines)))
    
        predictionCells = Board.predictDoubleWin(self, player)
        ObjectifCells = map(lambda x: Board.dicLines[x], playerObjectifLines)
        
        predictionObjectifCells = filter(lambda y: (any(map(lambda x: y in x, map(lambda z: Board.dicLines[z], playerObjectifLines)))), predictionCells)
        
        if len(playerHotLines) > 0:
            playerOptionsLines = playerHotLines

        elif len(dangerCells) > 0:
            return dangerCells[0]
        
        elif len(predictionObjectifCells) > 0:
            return predictionObjectifCells[0]            
            
        elif len(playerObjectifLines) > 0:
            playerOptionsLines = playerObjectifLines
        else:
            return playerBestCellAlone
        
        playerOptionsCellsNestedList = map(lambda x: Board.dicLines[x], playerOptionsLines)
        playerOptionsCellsList = [item for sublist in playerOptionsCellsNestedList for item in sublist]
        playerOptFreeCellsList = filter(lambda x: x in self.listFreeCells, playerOptionsCellsList)    
        playerOptionsCells = filter(lambda x: x.id in playerOptFreeCellsList, self.cells)
        playerBestCell = reduce(lambda x,y: x if x.probCell > y.probCell else y, playerOptionsCells)
        
        return playerBestCell.id
        
    # returns a list with the lines where he is placed, listOwnedLines is a list that may contain duplicate values for lines _
    # where there are several owned cells
    def ownedBusyLines(self, player):
        
        ownedCells = filter(lambda x: x.owner == player, self.cells)
        listOwnedLines = [item for sublist in map(lambda x: x.inLines, ownedCells) for item in sublist]
        
        return listOwnedLines
    
    # returns a list with the cells where 
    def ownedBusyCells(self, player):
                              
        listOwnedCells = list(set(map(lambda x: x.id, filter(lambda x: x.owner == player, self.cells))))  
        return listOwnedCells
        
    # updates the status of free/busy cell/lines, FreeCells is a list of objects, ListFreeLines is a list of integers
    def boardStatus(self):
        
        self.FreeCells = filter(lambda x: not x.busy, self.cells)
        self.BusyCells = filter(lambda x: x.busy, self.cells)
        self.listFreeCells = map(lambda x: x.id, self.FreeCells)
        self.listBusyCells = map(lambda x: x.id, self.BusyCells)
        self.listFreeLines = filter(lambda x: all(map(lambda x: x not in self.listBusyCells, Board.dicLines[x])), Board.dicLines)
        self.listBusyLines = filter(lambda x: any(map(lambda x: x in self.listBusyCells, Board.dicLines[x])), Board.dicLines)

    def freeCellsList(self):

        return map(lambda x: x.id, self.FreeCells)
        
    # creates the grafic board  
    def createGraphicRow(self, num, rowCells):

        graphicRow = ''

        for i in xrange(Board.numberOfRowPerCell):

            graphicRow += '|'

            for j in xrange(num):

                if i == num - 1:
                    graphicRow += '_______|'

                else:
                    if i == Board.rowWithTag:
                        graphicRow += '   %s   |' %rowCells[j].tag

                    else:    
                        graphicRow += '       |'

            if i != Board.numberOfRowPerCell - 1: 
                graphicRow += '\n'

        return graphicRow
     
    # recalculates the number of lines in which is each cell (kind of prob), it assumes busyCells = oponentsCells since_
    # it would be used only in the first round, it may cause an error 
    def recalculateCellProbs(self, player):
        
        adversary = (player + 1) % 2
        adversaryBusyLines = Board.ownedBusyLines(self, adversary)
        
        for cell in self.cells:
            cell.probCell = len(filter(lambda x: x not in adversaryBusyLines, cell.inLines))
    
    # checks if adversary has two cells in a line already
    def checkDanger(self, player):
   
        dangerLines = []
        adversary = (player + 1) % 2
        adversaryBusyLines = list(set(Board.ownedBusyLines(self, adversary)))
        adversaryBusyCells = Board.ownedBusyCells(self, adversary)
        listCellsPerLine = map(lambda x: sum(x), [map(lambda x: 1 if x in adversaryBusyCells else 0, Board.dicLines[i]) for i in adversaryBusyLines])
        
        for i, item in enumerate(adversaryBusyLines):
            
            if listCellsPerLine[i] > 1:
                dangerLines.append(item)
        
        dangerCellsNestedList = map(lambda x: Board.dicLines[x], dangerLines)
        dangerCellsList = [item for sublist in dangerCellsNestedList for item in sublist]
        dangerFreeCellsList = filter(lambda x: x in self.listFreeCells, dangerCellsList)    
        
        return dangerFreeCellsList
     
    # it checks if there is any cell where the adversary could place itself next turn and create a double win option
    # it returns a list of cells
    def predictDoubleWin(self, player):
        
        adversary = (player + 1) % 2
        adversaryBusyCells = Board.ownedBusyCells(self, player)
        prediction = []
        ownedCells = filter(lambda x: x.owner == player, self.cells)
        ownedAdversaryCells = filter(lambda x: x.owner == adversary, self.cells)
        
        
        if len(ownedAdversaryCells) > 1:
        
            for freeCell in self.listFreeCells:

                nextCell = (filter(lambda x: x.id == freeCell, self.FreeCells))[0]
                ownedAdversaryCells.append(nextCell)
                listOwnedLines = [item for sublist in map(lambda x: x.inLines, ownedCells) for item in sublist]
                listAdversaryOwnedLines = [item for sublist in map(lambda x: x.inLines, ownedAdversaryCells) for item in sublist]
                adversaryObjectifLines = filter(lambda x: x not in listOwnedLines, listAdversaryOwnedLines)
                adversaryHotLines = list(set(filter(lambda x: adversaryObjectifLines.count(x) > 1, adversaryObjectifLines)))

                if len(adversaryHotLines) > 1:

                    prediction += [freeCell]
                    
                ownedAdversaryCells.pop()
                
        return prediction
            
    # checks if player who has played has a winner line, return boolean
    def checkWinner(self, player):
        
        playerCells = Board.ownedBusyCells(self, player)
        playerLines = Board.ownedBusyLines(self, player)
        winnerLines = list(set(filter(lambda x: all(map(lambda x: x in playerCells, Board.dicLines[x])), playerLines)))
        
        if (len(winnerLines) > 0):
            print 'Player %s has won!'%(player + 1)
            return True
        else:
            return False
     
    # checks whether every cell has a owner
    def checkDraw(self):
        
        if (filter(lambda x: x.owner not in [0,1], self.cells) == []):
            print 'It is a draw'
            return True
        else:
            return False



# class to create Players objects with methods:
# Attributes
    # counter: it assigns ids 0 or 1
    # options: accepted players ids
    # moves: it contains the accepted mooves (cells) for the game
    # playerPoints: it records the games won by the player
# Methods:
    # play: it asks for player next moove
# ChildClasses: the modify play method
    # PlayerReal it asks for input to select the moove 
    # PlayerIA it selects the input sugested method (it correspond to the best option calculated by Board)
    
class Player(object):
    
    counter = 0
    moves = [i for i in xrange(1, 10)]
    options = [0,1]
    
    def __init__(self, playerPoints = 0):
        
        self.id = Player.counter % 2
        
        if self.id not in self.options: print "Error: problem with Player counter"
         
        self.playerPoints = playerPoints
        Player.counter += 1
        
    def play(self):
        pass
        
class PlayerReal(Player):
    
    def __init__(self):
        
        Player.__init__(self)
        
    def play(self, bestOption, freeCells):
        
        messageFreeCells = map(lambda x: x+1, freeCells)
        print 'Available cells: ' + str(messageFreeCells)
        cell = int(raw_input("Player %s, select a cell: "%(self.id+1))) - 1
        
        while True:    
            if cell in freeCells:
                break
            else:
                
                cell = int(raw_input("Player %s, select a free cell from 1 to 9: "%(self.id+1))) - 1
       
        return cell
   

class PlayerIA(Player):
    
    def __init__(self):
        
        Player.__init__(self)
        
    def play(self, bestOption, freeCells):

        time.sleep(1)
        return bestOption
    

# ---------------------- Start Game -------------------------

newGame = Game()
